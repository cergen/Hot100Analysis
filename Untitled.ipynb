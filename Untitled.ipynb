{
 "cells": [
  {
   "cell_type": "code",
   "execution_count": 1,
   "id": "7db2a4f6",
   "metadata": {},
   "outputs": [],
   "source": [
    "import numpy as np\n",
    "import pandas as pd\n",
    "import plotly.express as px"
   ]
  },
  {
   "cell_type": "code",
   "execution_count": 2,
   "id": "854a4995",
   "metadata": {},
   "outputs": [],
   "source": [
    "pd.set_option('display.min_rows', 50)\n",
    "pd.set_option('display.max_rows', 100)"
   ]
  },
  {
   "cell_type": "code",
   "execution_count": 3,
   "id": "ba187f23",
   "metadata": {},
   "outputs": [],
   "source": [
    "#dataset obtained from https://www.kaggle.com/datasets/dhruvildave/billboard-the-hot-100-songs\n",
    "dfHot100 = pd.read_csv('D:\\Python Coding\\Hot100Analysis\\hot100.csv')"
   ]
  },
  {
   "cell_type": "code",
   "execution_count": 4,
   "id": "c2ac951a",
   "metadata": {},
   "outputs": [
    {
     "data": {
      "text/plain": [
       "33010"
      ]
     },
     "execution_count": 4,
     "metadata": {},
     "output_type": "execute_result"
    }
   ],
   "source": [
    "#top 10 df\n",
    "columnsToDrop = ['last-week','peak-rank','weeks-on-board']\n",
    "dfHot100.drop(columnsToDrop, axis = 1, inplace = True)\n",
    "dfHot100 = dfHot100[dfHot100['rank'] < 11]\n",
    "dfHot100\n",
    "\n",
    "#top 10 unique artist and songs\n",
    "unqartist = dfHot100['artist'].unique()\n",
    "len(unqartist)\n",
    "artistCount = dfHot100['artist'].count()\n",
    "artistCount"
   ]
  },
  {
   "cell_type": "code",
   "execution_count": 5,
   "id": "b6607c18",
   "metadata": {},
   "outputs": [
    {
     "data": {
      "text/plain": [
       "1104"
      ]
     },
     "execution_count": 5,
     "metadata": {},
     "output_type": "execute_result"
    }
   ],
   "source": [
    "#top 1 df\n",
    "top1 = dfHot100[dfHot100['rank'] < 2]\n",
    "top1\n",
    "\n",
    "# 749 unique artists\n",
    "top1['artist'].unique()\n",
    "len(top1['artist'].unique())\n",
    "\n",
    "# 1104 unique songs\n",
    "top1['song'].unique()\n",
    "len(top1['song'].unique())"
   ]
  },
  {
   "cell_type": "code",
   "execution_count": 6,
   "id": "5b622995",
   "metadata": {},
   "outputs": [],
   "source": [
    "titleWordCount = []\n",
    "for track in top1['song']:\n",
    "    trackL = track.lower().split()\n",
    "    titleWordCount.extend(trackL)"
   ]
  },
  {
   "cell_type": "code",
   "execution_count": 7,
   "id": "4765c770",
   "metadata": {},
   "outputs": [
    {
     "name": "stdout",
     "output_type": "stream",
     "text": [
      "<class 'pandas.core.frame.DataFrame'>\n",
      "RangeIndex: 10556 entries, 0 to 10555\n",
      "Data columns (total 1 columns):\n",
      " #   Column  Non-Null Count  Dtype \n",
      "---  ------  --------------  ----- \n",
      " 0   Words   10556 non-null  object\n",
      "dtypes: object(1)\n",
      "memory usage: 82.6+ KB\n"
     ]
    }
   ],
   "source": [
    "dfWords = pd.DataFrame(titleWordCount, columns=['Words'])\n",
    "dfWords.info()"
   ]
  },
  {
   "cell_type": "code",
   "execution_count": 8,
   "id": "a00e7f8c",
   "metadata": {},
   "outputs": [],
   "source": [
    "countColumn = []\n",
    "for i in range(len(dfWords['Words'])):\n",
    "    countColumn.append(1)\n",
    "dfWords['Count'] = countColumn\n",
    "dfWords['Words'] = titleWordCount"
   ]
  },
  {
   "cell_type": "code",
   "execution_count": 9,
   "id": "3c7afcb7",
   "metadata": {},
   "outputs": [
    {
     "data": {
      "text/html": [
       "<div>\n",
       "<style scoped>\n",
       "    .dataframe tbody tr th:only-of-type {\n",
       "        vertical-align: middle;\n",
       "    }\n",
       "\n",
       "    .dataframe tbody tr th {\n",
       "        vertical-align: top;\n",
       "    }\n",
       "\n",
       "    .dataframe thead th {\n",
       "        text-align: right;\n",
       "    }\n",
       "</style>\n",
       "<table border=\"1\" class=\"dataframe\">\n",
       "  <thead>\n",
       "    <tr style=\"text-align: right;\">\n",
       "      <th></th>\n",
       "      <th>Words</th>\n",
       "      <th>Count</th>\n",
       "    </tr>\n",
       "  </thead>\n",
       "  <tbody>\n",
       "    <tr>\n",
       "      <th>0</th>\n",
       "      <td>easy</td>\n",
       "      <td>1</td>\n",
       "    </tr>\n",
       "    <tr>\n",
       "      <th>1</th>\n",
       "      <td>on</td>\n",
       "      <td>1</td>\n",
       "    </tr>\n",
       "    <tr>\n",
       "      <th>2</th>\n",
       "      <td>me</td>\n",
       "      <td>1</td>\n",
       "    </tr>\n",
       "    <tr>\n",
       "      <th>3</th>\n",
       "      <td>easy</td>\n",
       "      <td>1</td>\n",
       "    </tr>\n",
       "    <tr>\n",
       "      <th>4</th>\n",
       "      <td>on</td>\n",
       "      <td>1</td>\n",
       "    </tr>\n",
       "    <tr>\n",
       "      <th>5</th>\n",
       "      <td>me</td>\n",
       "      <td>1</td>\n",
       "    </tr>\n",
       "    <tr>\n",
       "      <th>6</th>\n",
       "      <td>industry</td>\n",
       "      <td>1</td>\n",
       "    </tr>\n",
       "    <tr>\n",
       "      <th>7</th>\n",
       "      <td>baby</td>\n",
       "      <td>1</td>\n",
       "    </tr>\n",
       "    <tr>\n",
       "      <th>8</th>\n",
       "      <td>stay</td>\n",
       "      <td>1</td>\n",
       "    </tr>\n",
       "    <tr>\n",
       "      <th>9</th>\n",
       "      <td>my</td>\n",
       "      <td>1</td>\n",
       "    </tr>\n",
       "    <tr>\n",
       "      <th>10</th>\n",
       "      <td>universe</td>\n",
       "      <td>1</td>\n",
       "    </tr>\n",
       "    <tr>\n",
       "      <th>11</th>\n",
       "      <td>stay</td>\n",
       "      <td>1</td>\n",
       "    </tr>\n",
       "    <tr>\n",
       "      <th>12</th>\n",
       "      <td>stay</td>\n",
       "      <td>1</td>\n",
       "    </tr>\n",
       "    <tr>\n",
       "      <th>13</th>\n",
       "      <td>way</td>\n",
       "      <td>1</td>\n",
       "    </tr>\n",
       "    <tr>\n",
       "      <th>14</th>\n",
       "      <td>2</td>\n",
       "      <td>1</td>\n",
       "    </tr>\n",
       "    <tr>\n",
       "      <th>15</th>\n",
       "      <td>sexy</td>\n",
       "      <td>1</td>\n",
       "    </tr>\n",
       "    <tr>\n",
       "      <th>16</th>\n",
       "      <td>butter</td>\n",
       "      <td>1</td>\n",
       "    </tr>\n",
       "    <tr>\n",
       "      <th>17</th>\n",
       "      <td>stay</td>\n",
       "      <td>1</td>\n",
       "    </tr>\n",
       "    <tr>\n",
       "      <th>18</th>\n",
       "      <td>stay</td>\n",
       "      <td>1</td>\n",
       "    </tr>\n",
       "    <tr>\n",
       "      <th>19</th>\n",
       "      <td>stay</td>\n",
       "      <td>1</td>\n",
       "    </tr>\n",
       "    <tr>\n",
       "      <th>20</th>\n",
       "      <td>stay</td>\n",
       "      <td>1</td>\n",
       "    </tr>\n",
       "    <tr>\n",
       "      <th>21</th>\n",
       "      <td>butter</td>\n",
       "      <td>1</td>\n",
       "    </tr>\n",
       "    <tr>\n",
       "      <th>22</th>\n",
       "      <td>butter</td>\n",
       "      <td>1</td>\n",
       "    </tr>\n",
       "    <tr>\n",
       "      <th>23</th>\n",
       "      <td>permission</td>\n",
       "      <td>1</td>\n",
       "    </tr>\n",
       "    <tr>\n",
       "      <th>24</th>\n",
       "      <td>to</td>\n",
       "      <td>1</td>\n",
       "    </tr>\n",
       "    <tr>\n",
       "      <th>...</th>\n",
       "      <td>...</td>\n",
       "      <td>...</td>\n",
       "    </tr>\n",
       "    <tr>\n",
       "      <th>10531</th>\n",
       "      <td>blu</td>\n",
       "      <td>1</td>\n",
       "    </tr>\n",
       "    <tr>\n",
       "      <th>10532</th>\n",
       "      <td>dipinto</td>\n",
       "      <td>1</td>\n",
       "    </tr>\n",
       "    <tr>\n",
       "      <th>10533</th>\n",
       "      <td>di</td>\n",
       "      <td>1</td>\n",
       "    </tr>\n",
       "    <tr>\n",
       "      <th>10534</th>\n",
       "      <td>blu</td>\n",
       "      <td>1</td>\n",
       "    </tr>\n",
       "    <tr>\n",
       "      <th>10535</th>\n",
       "      <td>(volaré)</td>\n",
       "      <td>1</td>\n",
       "    </tr>\n",
       "    <tr>\n",
       "      <th>10536</th>\n",
       "      <td>nel</td>\n",
       "      <td>1</td>\n",
       "    </tr>\n",
       "    <tr>\n",
       "      <th>10537</th>\n",
       "      <td>blu</td>\n",
       "      <td>1</td>\n",
       "    </tr>\n",
       "    <tr>\n",
       "      <th>10538</th>\n",
       "      <td>dipinto</td>\n",
       "      <td>1</td>\n",
       "    </tr>\n",
       "    <tr>\n",
       "      <th>10539</th>\n",
       "      <td>di</td>\n",
       "      <td>1</td>\n",
       "    </tr>\n",
       "    <tr>\n",
       "      <th>10540</th>\n",
       "      <td>blu</td>\n",
       "      <td>1</td>\n",
       "    </tr>\n",
       "    <tr>\n",
       "      <th>10541</th>\n",
       "      <td>(volaré)</td>\n",
       "      <td>1</td>\n",
       "    </tr>\n",
       "    <tr>\n",
       "      <th>10542</th>\n",
       "      <td>little</td>\n",
       "      <td>1</td>\n",
       "    </tr>\n",
       "    <tr>\n",
       "      <th>10543</th>\n",
       "      <td>star</td>\n",
       "      <td>1</td>\n",
       "    </tr>\n",
       "    <tr>\n",
       "      <th>10544</th>\n",
       "      <td>nel</td>\n",
       "      <td>1</td>\n",
       "    </tr>\n",
       "    <tr>\n",
       "      <th>10545</th>\n",
       "      <td>blu</td>\n",
       "      <td>1</td>\n",
       "    </tr>\n",
       "    <tr>\n",
       "      <th>10546</th>\n",
       "      <td>dipinto</td>\n",
       "      <td>1</td>\n",
       "    </tr>\n",
       "    <tr>\n",
       "      <th>10547</th>\n",
       "      <td>di</td>\n",
       "      <td>1</td>\n",
       "    </tr>\n",
       "    <tr>\n",
       "      <th>10548</th>\n",
       "      <td>blu</td>\n",
       "      <td>1</td>\n",
       "    </tr>\n",
       "    <tr>\n",
       "      <th>10549</th>\n",
       "      <td>(volaré)</td>\n",
       "      <td>1</td>\n",
       "    </tr>\n",
       "    <tr>\n",
       "      <th>10550</th>\n",
       "      <td>poor</td>\n",
       "      <td>1</td>\n",
       "    </tr>\n",
       "    <tr>\n",
       "      <th>10551</th>\n",
       "      <td>little</td>\n",
       "      <td>1</td>\n",
       "    </tr>\n",
       "    <tr>\n",
       "      <th>10552</th>\n",
       "      <td>fool</td>\n",
       "      <td>1</td>\n",
       "    </tr>\n",
       "    <tr>\n",
       "      <th>10553</th>\n",
       "      <td>poor</td>\n",
       "      <td>1</td>\n",
       "    </tr>\n",
       "    <tr>\n",
       "      <th>10554</th>\n",
       "      <td>little</td>\n",
       "      <td>1</td>\n",
       "    </tr>\n",
       "    <tr>\n",
       "      <th>10555</th>\n",
       "      <td>fool</td>\n",
       "      <td>1</td>\n",
       "    </tr>\n",
       "  </tbody>\n",
       "</table>\n",
       "<p>10556 rows × 2 columns</p>\n",
       "</div>"
      ],
      "text/plain": [
       "            Words  Count\n",
       "0            easy      1\n",
       "1              on      1\n",
       "2              me      1\n",
       "3            easy      1\n",
       "4              on      1\n",
       "5              me      1\n",
       "6        industry      1\n",
       "7            baby      1\n",
       "8            stay      1\n",
       "9              my      1\n",
       "10       universe      1\n",
       "11           stay      1\n",
       "12           stay      1\n",
       "13            way      1\n",
       "14              2      1\n",
       "15           sexy      1\n",
       "16         butter      1\n",
       "17           stay      1\n",
       "18           stay      1\n",
       "19           stay      1\n",
       "20           stay      1\n",
       "21         butter      1\n",
       "22         butter      1\n",
       "23     permission      1\n",
       "24             to      1\n",
       "...           ...    ...\n",
       "10531         blu      1\n",
       "10532     dipinto      1\n",
       "10533          di      1\n",
       "10534         blu      1\n",
       "10535    (volaré)      1\n",
       "10536         nel      1\n",
       "10537         blu      1\n",
       "10538     dipinto      1\n",
       "10539          di      1\n",
       "10540         blu      1\n",
       "10541    (volaré)      1\n",
       "10542      little      1\n",
       "10543        star      1\n",
       "10544         nel      1\n",
       "10545         blu      1\n",
       "10546     dipinto      1\n",
       "10547          di      1\n",
       "10548         blu      1\n",
       "10549    (volaré)      1\n",
       "10550        poor      1\n",
       "10551      little      1\n",
       "10552        fool      1\n",
       "10553        poor      1\n",
       "10554      little      1\n",
       "10555        fool      1\n",
       "\n",
       "[10556 rows x 2 columns]"
      ]
     },
     "execution_count": 9,
     "metadata": {},
     "output_type": "execute_result"
    }
   ],
   "source": [
    "dfWords"
   ]
  },
  {
   "cell_type": "code",
   "execution_count": 32,
   "id": "85add1ee",
   "metadata": {},
   "outputs": [],
   "source": [
    "aggDfWords = dfWords.groupby('Words', as_index=False).sum().sort_values(by=['Count'])\n",
    "aggDfWords = aggDfWords[aggDfWords['Count'] > 20]"
   ]
  },
  {
   "cell_type": "code",
   "execution_count": 34,
   "id": "d7209695",
   "metadata": {},
   "outputs": [
    {
     "data": {
      "application/vnd.plotly.v1+json": {
       "config": {
        "plotlyServerURL": "https://plot.ly"
       },
       "data": [
        {
         "alignmentgroup": "True",
         "hovertemplate": "Count=%{marker.color}<br>Words=%{y}<extra></extra>",
         "legendgroup": "21",
         "marker": {
          "color": [
           21,
           21,
           21,
           21
          ],
          "coloraxis": "coloraxis",
          "pattern": {
           "shape": ""
          }
         },
         "name": "21",
         "offsetgroup": "21",
         "orientation": "h",
         "showlegend": true,
         "textposition": "auto",
         "type": "bar",
         "x": [
          21,
          21,
          21,
          21
         ],
         "xaxis": "x",
         "y": [
          "town",
          "hold",
          "&",
          "over"
         ],
         "yaxis": "y"
        },
        {
         "alignmentgroup": "True",
         "hovertemplate": "Count=%{marker.color}<br>Words=%{y}<extra></extra>",
         "legendgroup": "22",
         "marker": {
          "color": [
           22,
           22,
           22,
           22
          ],
          "coloraxis": "coloraxis",
          "pattern": {
           "shape": "/"
          }
         },
         "name": "22",
         "offsetgroup": "22",
         "orientation": "h",
         "showlegend": true,
         "textposition": "auto",
         "type": "bar",
         "x": [
          22,
          22,
          22,
          22
         ],
         "xaxis": "x",
         "y": [
          "take",
          "no",
          "dance",
          "black"
         ],
         "yaxis": "y"
        },
        {
         "alignmentgroup": "True",
         "hovertemplate": "Count=%{marker.color}<br>Words=%{y}<extra></extra>",
         "legendgroup": "23",
         "marker": {
          "color": [
           23,
           23,
           23,
           23,
           23,
           23
          ],
          "coloraxis": "coloraxis",
          "pattern": {
           "shape": "\\"
          }
         },
         "name": "23",
         "offsetgroup": "23",
         "orientation": "h",
         "showlegend": true,
         "textposition": "auto",
         "type": "bar",
         "x": [
          23,
          23,
          23,
          23,
          23,
          23
         ],
         "xaxis": "x",
         "y": [
          "sweet",
          "look",
          "from",
          "make",
          "girls",
          "more"
         ],
         "yaxis": "y"
        },
        {
         "alignmentgroup": "True",
         "hovertemplate": "Count=%{marker.color}<br>Words=%{y}<extra></extra>",
         "legendgroup": "24",
         "marker": {
          "color": [
           24,
           24,
           24,
           24,
           24,
           24
          ],
          "coloraxis": "coloraxis",
          "pattern": {
           "shape": "x"
          }
         },
         "name": "24",
         "offsetgroup": "24",
         "orientation": "h",
         "showlegend": true,
         "textposition": "auto",
         "type": "bar",
         "x": [
          24,
          24,
          24,
          24,
          24,
          24
         ],
         "xaxis": "x",
         "y": [
          "tonight",
          "feeling",
          "theme",
          "boom",
          "go",
          "life"
         ],
         "yaxis": "y"
        },
        {
         "alignmentgroup": "True",
         "hovertemplate": "Count=%{marker.color}<br>Words=%{y}<extra></extra>",
         "legendgroup": "27",
         "marker": {
          "color": [
           27,
           27,
           27,
           27,
           27
          ],
          "coloraxis": "coloraxis",
          "pattern": {
           "shape": "+"
          }
         },
         "name": "27",
         "offsetgroup": "27",
         "orientation": "h",
         "showlegend": true,
         "textposition": "auto",
         "type": "bar",
         "x": [
          27,
          27,
          27,
          27,
          27
         ],
         "xaxis": "x",
         "y": [
          "back",
          "hey",
          "day",
          "it's",
          "how"
         ],
         "yaxis": "y"
        },
        {
         "alignmentgroup": "True",
         "hovertemplate": "Count=%{marker.color}<br>Words=%{y}<extra></extra>",
         "legendgroup": "28",
         "marker": {
          "color": [
           28,
           28
          ],
          "coloraxis": "coloraxis",
          "pattern": {
           "shape": "."
          }
         },
         "name": "28",
         "offsetgroup": "28",
         "orientation": "h",
         "showlegend": true,
         "textposition": "auto",
         "type": "bar",
         "x": [
          28,
          28
         ],
         "xaxis": "x",
         "y": [
          "got",
          "time"
         ],
         "yaxis": "y"
        },
        {
         "alignmentgroup": "True",
         "hovertemplate": "Count=%{marker.color}<br>Words=%{y}<extra></extra>",
         "legendgroup": "29",
         "marker": {
          "color": [
           29,
           29
          ],
          "coloraxis": "coloraxis",
          "pattern": {
           "shape": ""
          }
         },
         "name": "29",
         "offsetgroup": "29",
         "orientation": "h",
         "showlegend": true,
         "textposition": "auto",
         "type": "bar",
         "x": [
          29,
          29
         ],
         "xaxis": "x",
         "y": [
          "together",
          "about"
         ],
         "yaxis": "y"
        },
        {
         "alignmentgroup": "True",
         "hovertemplate": "Count=%{marker.color}<br>Words=%{y}<extra></extra>",
         "legendgroup": "30",
         "marker": {
          "color": [
           30,
           30,
           30,
           30
          ],
          "coloraxis": "coloraxis",
          "pattern": {
           "shape": "/"
          }
         },
         "name": "30",
         "offsetgroup": "30",
         "orientation": "h",
         "showlegend": true,
         "textposition": "auto",
         "type": "bar",
         "x": [
          30,
          30,
          30,
          30
         ],
         "xaxis": "x",
         "y": [
          "again",
          "rock",
          "what",
          "get"
         ],
         "yaxis": "y"
        },
        {
         "alignmentgroup": "True",
         "hovertemplate": "Count=%{marker.color}<br>Words=%{y}<extra></extra>",
         "legendgroup": "34",
         "marker": {
          "color": [
           34,
           34
          ],
          "coloraxis": "coloraxis",
          "pattern": {
           "shape": "\\"
          }
         },
         "name": "34",
         "offsetgroup": "34",
         "orientation": "h",
         "showlegend": true,
         "textposition": "auto",
         "type": "bar",
         "x": [
          34,
          34
         ],
         "xaxis": "x",
         "y": [
          "are",
          "road"
         ],
         "yaxis": "y"
        },
        {
         "alignmentgroup": "True",
         "hovertemplate": "Count=%{marker.color}<br>Words=%{y}<extra></extra>",
         "legendgroup": "35",
         "marker": {
          "color": [
           35,
           35
          ],
          "coloraxis": "coloraxis",
          "pattern": {
           "shape": "x"
          }
         },
         "name": "35",
         "offsetgroup": "35",
         "orientation": "h",
         "showlegend": true,
         "textposition": "auto",
         "type": "bar",
         "x": [
          35,
          35
         ],
         "xaxis": "x",
         "y": [
          "up",
          "will"
         ],
         "yaxis": "y"
        },
        {
         "alignmentgroup": "True",
         "hovertemplate": "Count=%{marker.color}<br>Words=%{y}<extra></extra>",
         "legendgroup": "36",
         "marker": {
          "color": [
           36
          ],
          "coloraxis": "coloraxis",
          "pattern": {
           "shape": "+"
          }
         },
         "name": "36",
         "offsetgroup": "36",
         "orientation": "h",
         "showlegend": true,
         "textposition": "auto",
         "type": "bar",
         "x": [
          36
         ],
         "xaxis": "x",
         "y": [
          "want"
         ],
         "yaxis": "y"
        },
        {
         "alignmentgroup": "True",
         "hovertemplate": "Count=%{marker.color}<br>Words=%{y}<extra></extra>",
         "legendgroup": "37",
         "marker": {
          "color": [
           37,
           37,
           37
          ],
          "coloraxis": "coloraxis",
          "pattern": {
           "shape": "."
          }
         },
         "name": "37",
         "offsetgroup": "37",
         "orientation": "h",
         "showlegend": true,
         "textposition": "auto",
         "type": "bar",
         "x": [
          37,
          37,
          37
         ],
         "xaxis": "x",
         "y": [
          "girl",
          "boy",
          "heart"
         ],
         "yaxis": "y"
        },
        {
         "alignmentgroup": "True",
         "hovertemplate": "Count=%{marker.color}<br>Words=%{y}<extra></extra>",
         "legendgroup": "38",
         "marker": {
          "color": [
           38
          ],
          "coloraxis": "coloraxis",
          "pattern": {
           "shape": ""
          }
         },
         "name": "38",
         "offsetgroup": "38",
         "orientation": "h",
         "showlegend": true,
         "textposition": "auto",
         "type": "bar",
         "x": [
          38
         ],
         "xaxis": "x",
         "y": [
          "i'll"
         ],
         "yaxis": "y"
        },
        {
         "alignmentgroup": "True",
         "hovertemplate": "Count=%{marker.color}<br>Words=%{y}<extra></extra>",
         "legendgroup": "39",
         "marker": {
          "color": [
           39,
           39
          ],
          "coloraxis": "coloraxis",
          "pattern": {
           "shape": "/"
          }
         },
         "name": "39",
         "offsetgroup": "39",
         "orientation": "h",
         "showlegend": true,
         "textposition": "auto",
         "type": "bar",
         "x": [
          39,
          39
         ],
         "xaxis": "x",
         "y": [
          "say",
          "this"
         ],
         "yaxis": "y"
        },
        {
         "alignmentgroup": "True",
         "hovertemplate": "Count=%{marker.color}<br>Words=%{y}<extra></extra>",
         "legendgroup": "41",
         "marker": {
          "color": [
           41,
           41
          ],
          "coloraxis": "coloraxis",
          "pattern": {
           "shape": "\\"
          }
         },
         "name": "41",
         "offsetgroup": "41",
         "orientation": "h",
         "showlegend": true,
         "textposition": "auto",
         "type": "bar",
         "x": [
          41,
          41
         ],
         "xaxis": "x",
         "y": [
          "that",
          "bad"
         ],
         "yaxis": "y"
        },
        {
         "alignmentgroup": "True",
         "hovertemplate": "Count=%{marker.color}<br>Words=%{y}<extra></extra>",
         "legendgroup": "42",
         "marker": {
          "color": [
           42
          ],
          "coloraxis": "coloraxis",
          "pattern": {
           "shape": "x"
          }
         },
         "name": "42",
         "offsetgroup": "42",
         "orientation": "h",
         "showlegend": true,
         "textposition": "auto",
         "type": "bar",
         "x": [
          42
         ],
         "xaxis": "x",
         "y": [
          "and"
         ],
         "yaxis": "y"
        },
        {
         "alignmentgroup": "True",
         "hovertemplate": "Count=%{marker.color}<br>Words=%{y}<extra></extra>",
         "legendgroup": "44",
         "marker": {
          "color": [
           44
          ],
          "coloraxis": "coloraxis",
          "pattern": {
           "shape": "+"
          }
         },
         "name": "44",
         "offsetgroup": "44",
         "orientation": "h",
         "showlegend": true,
         "textposition": "auto",
         "type": "bar",
         "x": [
          44
         ],
         "xaxis": "x",
         "y": [
          "(from"
         ],
         "yaxis": "y"
        },
        {
         "alignmentgroup": "True",
         "hovertemplate": "Count=%{marker.color}<br>Words=%{y}<extra></extra>",
         "legendgroup": "46",
         "marker": {
          "color": [
           46
          ],
          "coloraxis": "coloraxis",
          "pattern": {
           "shape": "."
          }
         },
         "name": "46",
         "offsetgroup": "46",
         "orientation": "h",
         "showlegend": true,
         "textposition": "auto",
         "type": "bar",
         "x": [
          46
         ],
         "xaxis": "x",
         "y": [
          "do"
         ],
         "yaxis": "y"
        },
        {
         "alignmentgroup": "True",
         "hovertemplate": "Count=%{marker.color}<br>Words=%{y}<extra></extra>",
         "legendgroup": "47",
         "marker": {
          "color": [
           47
          ],
          "coloraxis": "coloraxis",
          "pattern": {
           "shape": ""
          }
         },
         "name": "47",
         "offsetgroup": "47",
         "orientation": "h",
         "showlegend": true,
         "textposition": "auto",
         "type": "bar",
         "x": [
          47
         ],
         "xaxis": "x",
         "y": [
          "i'm"
         ],
         "yaxis": "y"
        },
        {
         "alignmentgroup": "True",
         "hovertemplate": "Count=%{marker.color}<br>Words=%{y}<extra></extra>",
         "legendgroup": "49",
         "marker": {
          "color": [
           49
          ],
          "coloraxis": "coloraxis",
          "pattern": {
           "shape": "/"
          }
         },
         "name": "49",
         "offsetgroup": "49",
         "orientation": "h",
         "showlegend": true,
         "textposition": "auto",
         "type": "bar",
         "x": [
          49
         ],
         "xaxis": "x",
         "y": [
          "can't"
         ],
         "yaxis": "y"
        },
        {
         "alignmentgroup": "True",
         "hovertemplate": "Count=%{marker.color}<br>Words=%{y}<extra></extra>",
         "legendgroup": "50",
         "marker": {
          "color": [
           50,
           50
          ],
          "coloraxis": "coloraxis",
          "pattern": {
           "shape": "\\"
          }
         },
         "name": "50",
         "offsetgroup": "50",
         "orientation": "h",
         "showlegend": true,
         "textposition": "auto",
         "type": "bar",
         "x": [
          50,
          50
         ],
         "xaxis": "x",
         "y": [
          "way",
          "baby"
         ],
         "yaxis": "y"
        },
        {
         "alignmentgroup": "True",
         "hovertemplate": "Count=%{marker.color}<br>Words=%{y}<extra></extra>",
         "legendgroup": "51",
         "marker": {
          "color": [
           51
          ],
          "coloraxis": "coloraxis",
          "pattern": {
           "shape": "x"
          }
         },
         "name": "51",
         "offsetgroup": "51",
         "orientation": "h",
         "showlegend": true,
         "textposition": "auto",
         "type": "bar",
         "x": [
          51
         ],
         "xaxis": "x",
         "y": [
          "don't"
         ],
         "yaxis": "y"
        },
        {
         "alignmentgroup": "True",
         "hovertemplate": "Count=%{marker.color}<br>Words=%{y}<extra></extra>",
         "legendgroup": "52",
         "marker": {
          "color": [
           52
          ],
          "coloraxis": "coloraxis",
          "pattern": {
           "shape": "+"
          }
         },
         "name": "52",
         "offsetgroup": "52",
         "orientation": "h",
         "showlegend": true,
         "textposition": "auto",
         "type": "bar",
         "x": [
          52
         ],
         "xaxis": "x",
         "y": [
          "with"
         ],
         "yaxis": "y"
        },
        {
         "alignmentgroup": "True",
         "hovertemplate": "Count=%{marker.color}<br>Words=%{y}<extra></extra>",
         "legendgroup": "53",
         "marker": {
          "color": [
           53
          ],
          "coloraxis": "coloraxis",
          "pattern": {
           "shape": "."
          }
         },
         "name": "53",
         "offsetgroup": "53",
         "orientation": "h",
         "showlegend": true,
         "textposition": "auto",
         "type": "bar",
         "x": [
          53
         ],
         "xaxis": "x",
         "y": [
          "night"
         ],
         "yaxis": "y"
        },
        {
         "alignmentgroup": "True",
         "hovertemplate": "Count=%{marker.color}<br>Words=%{y}<extra></extra>",
         "legendgroup": "55",
         "marker": {
          "color": [
           55
          ],
          "coloraxis": "coloraxis",
          "pattern": {
           "shape": ""
          }
         },
         "name": "55",
         "offsetgroup": "55",
         "orientation": "h",
         "showlegend": true,
         "textposition": "auto",
         "type": "bar",
         "x": [
          55
         ],
         "xaxis": "x",
         "y": [
          "like"
         ],
         "yaxis": "y"
        },
        {
         "alignmentgroup": "True",
         "hovertemplate": "Count=%{marker.color}<br>Words=%{y}<extra></extra>",
         "legendgroup": "61",
         "marker": {
          "color": [
           61
          ],
          "coloraxis": "coloraxis",
          "pattern": {
           "shape": "/"
          }
         },
         "name": "61",
         "offsetgroup": "61",
         "orientation": "h",
         "showlegend": true,
         "textposition": "auto",
         "type": "bar",
         "x": [
          61
         ],
         "xaxis": "x",
         "y": [
          "all"
         ],
         "yaxis": "y"
        },
        {
         "alignmentgroup": "True",
         "hovertemplate": "Count=%{marker.color}<br>Words=%{y}<extra></extra>",
         "legendgroup": "62",
         "marker": {
          "color": [
           62,
           62,
           62
          ],
          "coloraxis": "coloraxis",
          "pattern": {
           "shape": "\\"
          }
         },
         "name": "62",
         "offsetgroup": "62",
         "orientation": "h",
         "showlegend": true,
         "textposition": "auto",
         "type": "bar",
         "x": [
          62,
          62,
          62
         ],
         "xaxis": "x",
         "y": [
          "one",
          "we",
          "for"
         ],
         "yaxis": "y"
        },
        {
         "alignmentgroup": "True",
         "hovertemplate": "Count=%{marker.color}<br>Words=%{y}<extra></extra>",
         "legendgroup": "63",
         "marker": {
          "color": [
           63
          ],
          "coloraxis": "coloraxis",
          "pattern": {
           "shape": "x"
          }
         },
         "name": "63",
         "offsetgroup": "63",
         "orientation": "h",
         "showlegend": true,
         "textposition": "auto",
         "type": "bar",
         "x": [
          63
         ],
         "xaxis": "x",
         "y": [
          "your"
         ],
         "yaxis": "y"
        },
        {
         "alignmentgroup": "True",
         "hovertemplate": "Count=%{marker.color}<br>Words=%{y}<extra></extra>",
         "legendgroup": "67",
         "marker": {
          "color": [
           67
          ],
          "coloraxis": "coloraxis",
          "pattern": {
           "shape": "+"
          }
         },
         "name": "67",
         "offsetgroup": "67",
         "orientation": "h",
         "showlegend": true,
         "textposition": "auto",
         "type": "bar",
         "x": [
          67
         ],
         "xaxis": "x",
         "y": [
          "is"
         ],
         "yaxis": "y"
        },
        {
         "alignmentgroup": "True",
         "hovertemplate": "Count=%{marker.color}<br>Words=%{y}<extra></extra>",
         "legendgroup": "70",
         "marker": {
          "color": [
           70
          ],
          "coloraxis": "coloraxis",
          "pattern": {
           "shape": "."
          }
         },
         "name": "70",
         "offsetgroup": "70",
         "orientation": "h",
         "showlegend": true,
         "textposition": "auto",
         "type": "bar",
         "x": [
          70
         ],
         "xaxis": "x",
         "y": [
          "be"
         ],
         "yaxis": "y"
        },
        {
         "alignmentgroup": "True",
         "hovertemplate": "Count=%{marker.color}<br>Words=%{y}<extra></extra>",
         "legendgroup": "86",
         "marker": {
          "color": [
           86
          ],
          "coloraxis": "coloraxis",
          "pattern": {
           "shape": ""
          }
         },
         "name": "86",
         "offsetgroup": "86",
         "orientation": "h",
         "showlegend": true,
         "textposition": "auto",
         "type": "bar",
         "x": [
          86
         ],
         "xaxis": "x",
         "y": [
          "on"
         ],
         "yaxis": "y"
        },
        {
         "alignmentgroup": "True",
         "hovertemplate": "Count=%{marker.color}<br>Words=%{y}<extra></extra>",
         "legendgroup": "104",
         "marker": {
          "color": [
           104
          ],
          "coloraxis": "coloraxis",
          "pattern": {
           "shape": "/"
          }
         },
         "name": "104",
         "offsetgroup": "104",
         "orientation": "h",
         "showlegend": true,
         "textposition": "auto",
         "type": "bar",
         "x": [
          104
         ],
         "xaxis": "x",
         "y": [
          "it"
         ],
         "yaxis": "y"
        },
        {
         "alignmentgroup": "True",
         "hovertemplate": "Count=%{marker.color}<br>Words=%{y}<extra></extra>",
         "legendgroup": "145",
         "marker": {
          "color": [
           145
          ],
          "coloraxis": "coloraxis",
          "pattern": {
           "shape": "\\"
          }
         },
         "name": "145",
         "offsetgroup": "145",
         "orientation": "h",
         "showlegend": true,
         "textposition": "auto",
         "type": "bar",
         "x": [
          145
         ],
         "xaxis": "x",
         "y": [
          "of"
         ],
         "yaxis": "y"
        },
        {
         "alignmentgroup": "True",
         "hovertemplate": "Count=%{marker.color}<br>Words=%{y}<extra></extra>",
         "legendgroup": "148",
         "marker": {
          "color": [
           148,
           148
          ],
          "coloraxis": "coloraxis",
          "pattern": {
           "shape": "x"
          }
         },
         "name": "148",
         "offsetgroup": "148",
         "orientation": "h",
         "showlegend": true,
         "textposition": "auto",
         "type": "bar",
         "x": [
          148,
          148
         ],
         "xaxis": "x",
         "y": [
          "my",
          "to"
         ],
         "yaxis": "y"
        },
        {
         "alignmentgroup": "True",
         "hovertemplate": "Count=%{marker.color}<br>Words=%{y}<extra></extra>",
         "legendgroup": "152",
         "marker": {
          "color": [
           152
          ],
          "coloraxis": "coloraxis",
          "pattern": {
           "shape": "+"
          }
         },
         "name": "152",
         "offsetgroup": "152",
         "orientation": "h",
         "showlegend": true,
         "textposition": "auto",
         "type": "bar",
         "x": [
          152
         ],
         "xaxis": "x",
         "y": [
          "in"
         ],
         "yaxis": "y"
        },
        {
         "alignmentgroup": "True",
         "hovertemplate": "Count=%{marker.color}<br>Words=%{y}<extra></extra>",
         "legendgroup": "155",
         "marker": {
          "color": [
           155
          ],
          "coloraxis": "coloraxis",
          "pattern": {
           "shape": "."
          }
         },
         "name": "155",
         "offsetgroup": "155",
         "orientation": "h",
         "showlegend": true,
         "textposition": "auto",
         "type": "bar",
         "x": [
          155
         ],
         "xaxis": "x",
         "y": [
          "me"
         ],
         "yaxis": "y"
        },
        {
         "alignmentgroup": "True",
         "hovertemplate": "Count=%{marker.color}<br>Words=%{y}<extra></extra>",
         "legendgroup": "157",
         "marker": {
          "color": [
           157
          ],
          "coloraxis": "coloraxis",
          "pattern": {
           "shape": ""
          }
         },
         "name": "157",
         "offsetgroup": "157",
         "orientation": "h",
         "showlegend": true,
         "textposition": "auto",
         "type": "bar",
         "x": [
          157
         ],
         "xaxis": "x",
         "y": [
          "a"
         ],
         "yaxis": "y"
        },
        {
         "alignmentgroup": "True",
         "hovertemplate": "Count=%{marker.color}<br>Words=%{y}<extra></extra>",
         "legendgroup": "255",
         "marker": {
          "color": [
           255
          ],
          "coloraxis": "coloraxis",
          "pattern": {
           "shape": "/"
          }
         },
         "name": "255",
         "offsetgroup": "255",
         "orientation": "h",
         "showlegend": true,
         "textposition": "auto",
         "type": "bar",
         "x": [
          255
         ],
         "xaxis": "x",
         "y": [
          "i"
         ],
         "yaxis": "y"
        },
        {
         "alignmentgroup": "True",
         "hovertemplate": "Count=%{marker.color}<br>Words=%{y}<extra></extra>",
         "legendgroup": "281",
         "marker": {
          "color": [
           281
          ],
          "coloraxis": "coloraxis",
          "pattern": {
           "shape": "\\"
          }
         },
         "name": "281",
         "offsetgroup": "281",
         "orientation": "h",
         "showlegend": true,
         "textposition": "auto",
         "type": "bar",
         "x": [
          281
         ],
         "xaxis": "x",
         "y": [
          "love"
         ],
         "yaxis": "y"
        },
        {
         "alignmentgroup": "True",
         "hovertemplate": "Count=%{marker.color}<br>Words=%{y}<extra></extra>",
         "legendgroup": "374",
         "marker": {
          "color": [
           374
          ],
          "coloraxis": "coloraxis",
          "pattern": {
           "shape": "x"
          }
         },
         "name": "374",
         "offsetgroup": "374",
         "orientation": "h",
         "showlegend": true,
         "textposition": "auto",
         "type": "bar",
         "x": [
          374
         ],
         "xaxis": "x",
         "y": [
          "you"
         ],
         "yaxis": "y"
        },
        {
         "alignmentgroup": "True",
         "hovertemplate": "Count=%{marker.color}<br>Words=%{y}<extra></extra>",
         "legendgroup": "392",
         "marker": {
          "color": [
           392
          ],
          "coloraxis": "coloraxis",
          "pattern": {
           "shape": "+"
          }
         },
         "name": "392",
         "offsetgroup": "392",
         "orientation": "h",
         "showlegend": true,
         "textposition": "auto",
         "type": "bar",
         "x": [
          392
         ],
         "xaxis": "x",
         "y": [
          "the"
         ],
         "yaxis": "y"
        }
       ],
       "layout": {
        "barmode": "relative",
        "coloraxis": {
         "colorbar": {
          "title": {
           "text": "Count"
          }
         },
         "colorscale": [
          [
           0,
           "#0d0887"
          ],
          [
           0.1111111111111111,
           "#46039f"
          ],
          [
           0.2222222222222222,
           "#7201a8"
          ],
          [
           0.3333333333333333,
           "#9c179e"
          ],
          [
           0.4444444444444444,
           "#bd3786"
          ],
          [
           0.5555555555555556,
           "#d8576b"
          ],
          [
           0.6666666666666666,
           "#ed7953"
          ],
          [
           0.7777777777777778,
           "#fb9f3a"
          ],
          [
           0.8888888888888888,
           "#fdca26"
          ],
          [
           1,
           "#f0f921"
          ]
         ]
        },
        "height": 1000,
        "legend": {
         "title": {
          "text": "Count"
         },
         "tracegroupgap": 0
        },
        "template": {
         "data": {
          "bar": [
           {
            "error_x": {
             "color": "#2a3f5f"
            },
            "error_y": {
             "color": "#2a3f5f"
            },
            "marker": {
             "line": {
              "color": "#E5ECF6",
              "width": 0.5
             },
             "pattern": {
              "fillmode": "overlay",
              "size": 10,
              "solidity": 0.2
             }
            },
            "type": "bar"
           }
          ],
          "barpolar": [
           {
            "marker": {
             "line": {
              "color": "#E5ECF6",
              "width": 0.5
             },
             "pattern": {
              "fillmode": "overlay",
              "size": 10,
              "solidity": 0.2
             }
            },
            "type": "barpolar"
           }
          ],
          "carpet": [
           {
            "aaxis": {
             "endlinecolor": "#2a3f5f",
             "gridcolor": "white",
             "linecolor": "white",
             "minorgridcolor": "white",
             "startlinecolor": "#2a3f5f"
            },
            "baxis": {
             "endlinecolor": "#2a3f5f",
             "gridcolor": "white",
             "linecolor": "white",
             "minorgridcolor": "white",
             "startlinecolor": "#2a3f5f"
            },
            "type": "carpet"
           }
          ],
          "choropleth": [
           {
            "colorbar": {
             "outlinewidth": 0,
             "ticks": ""
            },
            "type": "choropleth"
           }
          ],
          "contour": [
           {
            "colorbar": {
             "outlinewidth": 0,
             "ticks": ""
            },
            "colorscale": [
             [
              0,
              "#0d0887"
             ],
             [
              0.1111111111111111,
              "#46039f"
             ],
             [
              0.2222222222222222,
              "#7201a8"
             ],
             [
              0.3333333333333333,
              "#9c179e"
             ],
             [
              0.4444444444444444,
              "#bd3786"
             ],
             [
              0.5555555555555556,
              "#d8576b"
             ],
             [
              0.6666666666666666,
              "#ed7953"
             ],
             [
              0.7777777777777778,
              "#fb9f3a"
             ],
             [
              0.8888888888888888,
              "#fdca26"
             ],
             [
              1,
              "#f0f921"
             ]
            ],
            "type": "contour"
           }
          ],
          "contourcarpet": [
           {
            "colorbar": {
             "outlinewidth": 0,
             "ticks": ""
            },
            "type": "contourcarpet"
           }
          ],
          "heatmap": [
           {
            "colorbar": {
             "outlinewidth": 0,
             "ticks": ""
            },
            "colorscale": [
             [
              0,
              "#0d0887"
             ],
             [
              0.1111111111111111,
              "#46039f"
             ],
             [
              0.2222222222222222,
              "#7201a8"
             ],
             [
              0.3333333333333333,
              "#9c179e"
             ],
             [
              0.4444444444444444,
              "#bd3786"
             ],
             [
              0.5555555555555556,
              "#d8576b"
             ],
             [
              0.6666666666666666,
              "#ed7953"
             ],
             [
              0.7777777777777778,
              "#fb9f3a"
             ],
             [
              0.8888888888888888,
              "#fdca26"
             ],
             [
              1,
              "#f0f921"
             ]
            ],
            "type": "heatmap"
           }
          ],
          "heatmapgl": [
           {
            "colorbar": {
             "outlinewidth": 0,
             "ticks": ""
            },
            "colorscale": [
             [
              0,
              "#0d0887"
             ],
             [
              0.1111111111111111,
              "#46039f"
             ],
             [
              0.2222222222222222,
              "#7201a8"
             ],
             [
              0.3333333333333333,
              "#9c179e"
             ],
             [
              0.4444444444444444,
              "#bd3786"
             ],
             [
              0.5555555555555556,
              "#d8576b"
             ],
             [
              0.6666666666666666,
              "#ed7953"
             ],
             [
              0.7777777777777778,
              "#fb9f3a"
             ],
             [
              0.8888888888888888,
              "#fdca26"
             ],
             [
              1,
              "#f0f921"
             ]
            ],
            "type": "heatmapgl"
           }
          ],
          "histogram": [
           {
            "marker": {
             "pattern": {
              "fillmode": "overlay",
              "size": 10,
              "solidity": 0.2
             }
            },
            "type": "histogram"
           }
          ],
          "histogram2d": [
           {
            "colorbar": {
             "outlinewidth": 0,
             "ticks": ""
            },
            "colorscale": [
             [
              0,
              "#0d0887"
             ],
             [
              0.1111111111111111,
              "#46039f"
             ],
             [
              0.2222222222222222,
              "#7201a8"
             ],
             [
              0.3333333333333333,
              "#9c179e"
             ],
             [
              0.4444444444444444,
              "#bd3786"
             ],
             [
              0.5555555555555556,
              "#d8576b"
             ],
             [
              0.6666666666666666,
              "#ed7953"
             ],
             [
              0.7777777777777778,
              "#fb9f3a"
             ],
             [
              0.8888888888888888,
              "#fdca26"
             ],
             [
              1,
              "#f0f921"
             ]
            ],
            "type": "histogram2d"
           }
          ],
          "histogram2dcontour": [
           {
            "colorbar": {
             "outlinewidth": 0,
             "ticks": ""
            },
            "colorscale": [
             [
              0,
              "#0d0887"
             ],
             [
              0.1111111111111111,
              "#46039f"
             ],
             [
              0.2222222222222222,
              "#7201a8"
             ],
             [
              0.3333333333333333,
              "#9c179e"
             ],
             [
              0.4444444444444444,
              "#bd3786"
             ],
             [
              0.5555555555555556,
              "#d8576b"
             ],
             [
              0.6666666666666666,
              "#ed7953"
             ],
             [
              0.7777777777777778,
              "#fb9f3a"
             ],
             [
              0.8888888888888888,
              "#fdca26"
             ],
             [
              1,
              "#f0f921"
             ]
            ],
            "type": "histogram2dcontour"
           }
          ],
          "mesh3d": [
           {
            "colorbar": {
             "outlinewidth": 0,
             "ticks": ""
            },
            "type": "mesh3d"
           }
          ],
          "parcoords": [
           {
            "line": {
             "colorbar": {
              "outlinewidth": 0,
              "ticks": ""
             }
            },
            "type": "parcoords"
           }
          ],
          "pie": [
           {
            "automargin": true,
            "type": "pie"
           }
          ],
          "scatter": [
           {
            "marker": {
             "colorbar": {
              "outlinewidth": 0,
              "ticks": ""
             }
            },
            "type": "scatter"
           }
          ],
          "scatter3d": [
           {
            "line": {
             "colorbar": {
              "outlinewidth": 0,
              "ticks": ""
             }
            },
            "marker": {
             "colorbar": {
              "outlinewidth": 0,
              "ticks": ""
             }
            },
            "type": "scatter3d"
           }
          ],
          "scattercarpet": [
           {
            "marker": {
             "colorbar": {
              "outlinewidth": 0,
              "ticks": ""
             }
            },
            "type": "scattercarpet"
           }
          ],
          "scattergeo": [
           {
            "marker": {
             "colorbar": {
              "outlinewidth": 0,
              "ticks": ""
             }
            },
            "type": "scattergeo"
           }
          ],
          "scattergl": [
           {
            "marker": {
             "colorbar": {
              "outlinewidth": 0,
              "ticks": ""
             }
            },
            "type": "scattergl"
           }
          ],
          "scattermapbox": [
           {
            "marker": {
             "colorbar": {
              "outlinewidth": 0,
              "ticks": ""
             }
            },
            "type": "scattermapbox"
           }
          ],
          "scatterpolar": [
           {
            "marker": {
             "colorbar": {
              "outlinewidth": 0,
              "ticks": ""
             }
            },
            "type": "scatterpolar"
           }
          ],
          "scatterpolargl": [
           {
            "marker": {
             "colorbar": {
              "outlinewidth": 0,
              "ticks": ""
             }
            },
            "type": "scatterpolargl"
           }
          ],
          "scatterternary": [
           {
            "marker": {
             "colorbar": {
              "outlinewidth": 0,
              "ticks": ""
             }
            },
            "type": "scatterternary"
           }
          ],
          "surface": [
           {
            "colorbar": {
             "outlinewidth": 0,
             "ticks": ""
            },
            "colorscale": [
             [
              0,
              "#0d0887"
             ],
             [
              0.1111111111111111,
              "#46039f"
             ],
             [
              0.2222222222222222,
              "#7201a8"
             ],
             [
              0.3333333333333333,
              "#9c179e"
             ],
             [
              0.4444444444444444,
              "#bd3786"
             ],
             [
              0.5555555555555556,
              "#d8576b"
             ],
             [
              0.6666666666666666,
              "#ed7953"
             ],
             [
              0.7777777777777778,
              "#fb9f3a"
             ],
             [
              0.8888888888888888,
              "#fdca26"
             ],
             [
              1,
              "#f0f921"
             ]
            ],
            "type": "surface"
           }
          ],
          "table": [
           {
            "cells": {
             "fill": {
              "color": "#EBF0F8"
             },
             "line": {
              "color": "white"
             }
            },
            "header": {
             "fill": {
              "color": "#C8D4E3"
             },
             "line": {
              "color": "white"
             }
            },
            "type": "table"
           }
          ]
         },
         "layout": {
          "annotationdefaults": {
           "arrowcolor": "#2a3f5f",
           "arrowhead": 0,
           "arrowwidth": 1
          },
          "autotypenumbers": "strict",
          "coloraxis": {
           "colorbar": {
            "outlinewidth": 0,
            "ticks": ""
           }
          },
          "colorscale": {
           "diverging": [
            [
             0,
             "#8e0152"
            ],
            [
             0.1,
             "#c51b7d"
            ],
            [
             0.2,
             "#de77ae"
            ],
            [
             0.3,
             "#f1b6da"
            ],
            [
             0.4,
             "#fde0ef"
            ],
            [
             0.5,
             "#f7f7f7"
            ],
            [
             0.6,
             "#e6f5d0"
            ],
            [
             0.7,
             "#b8e186"
            ],
            [
             0.8,
             "#7fbc41"
            ],
            [
             0.9,
             "#4d9221"
            ],
            [
             1,
             "#276419"
            ]
           ],
           "sequential": [
            [
             0,
             "#0d0887"
            ],
            [
             0.1111111111111111,
             "#46039f"
            ],
            [
             0.2222222222222222,
             "#7201a8"
            ],
            [
             0.3333333333333333,
             "#9c179e"
            ],
            [
             0.4444444444444444,
             "#bd3786"
            ],
            [
             0.5555555555555556,
             "#d8576b"
            ],
            [
             0.6666666666666666,
             "#ed7953"
            ],
            [
             0.7777777777777778,
             "#fb9f3a"
            ],
            [
             0.8888888888888888,
             "#fdca26"
            ],
            [
             1,
             "#f0f921"
            ]
           ],
           "sequentialminus": [
            [
             0,
             "#0d0887"
            ],
            [
             0.1111111111111111,
             "#46039f"
            ],
            [
             0.2222222222222222,
             "#7201a8"
            ],
            [
             0.3333333333333333,
             "#9c179e"
            ],
            [
             0.4444444444444444,
             "#bd3786"
            ],
            [
             0.5555555555555556,
             "#d8576b"
            ],
            [
             0.6666666666666666,
             "#ed7953"
            ],
            [
             0.7777777777777778,
             "#fb9f3a"
            ],
            [
             0.8888888888888888,
             "#fdca26"
            ],
            [
             1,
             "#f0f921"
            ]
           ]
          },
          "colorway": [
           "#636efa",
           "#EF553B",
           "#00cc96",
           "#ab63fa",
           "#FFA15A",
           "#19d3f3",
           "#FF6692",
           "#B6E880",
           "#FF97FF",
           "#FECB52"
          ],
          "font": {
           "color": "#2a3f5f"
          },
          "geo": {
           "bgcolor": "white",
           "lakecolor": "white",
           "landcolor": "#E5ECF6",
           "showlakes": true,
           "showland": true,
           "subunitcolor": "white"
          },
          "hoverlabel": {
           "align": "left"
          },
          "hovermode": "closest",
          "mapbox": {
           "style": "light"
          },
          "paper_bgcolor": "white",
          "plot_bgcolor": "#E5ECF6",
          "polar": {
           "angularaxis": {
            "gridcolor": "white",
            "linecolor": "white",
            "ticks": ""
           },
           "bgcolor": "#E5ECF6",
           "radialaxis": {
            "gridcolor": "white",
            "linecolor": "white",
            "ticks": ""
           }
          },
          "scene": {
           "xaxis": {
            "backgroundcolor": "#E5ECF6",
            "gridcolor": "white",
            "gridwidth": 2,
            "linecolor": "white",
            "showbackground": true,
            "ticks": "",
            "zerolinecolor": "white"
           },
           "yaxis": {
            "backgroundcolor": "#E5ECF6",
            "gridcolor": "white",
            "gridwidth": 2,
            "linecolor": "white",
            "showbackground": true,
            "ticks": "",
            "zerolinecolor": "white"
           },
           "zaxis": {
            "backgroundcolor": "#E5ECF6",
            "gridcolor": "white",
            "gridwidth": 2,
            "linecolor": "white",
            "showbackground": true,
            "ticks": "",
            "zerolinecolor": "white"
           }
          },
          "shapedefaults": {
           "line": {
            "color": "#2a3f5f"
           }
          },
          "ternary": {
           "aaxis": {
            "gridcolor": "white",
            "linecolor": "white",
            "ticks": ""
           },
           "baxis": {
            "gridcolor": "white",
            "linecolor": "white",
            "ticks": ""
           },
           "bgcolor": "#E5ECF6",
           "caxis": {
            "gridcolor": "white",
            "linecolor": "white",
            "ticks": ""
           }
          },
          "title": {
           "x": 0.05
          },
          "xaxis": {
           "automargin": true,
           "gridcolor": "white",
           "linecolor": "white",
           "ticks": "",
           "title": {
            "standoff": 15
           },
           "zerolinecolor": "white",
           "zerolinewidth": 2
          },
          "yaxis": {
           "automargin": true,
           "gridcolor": "white",
           "linecolor": "white",
           "ticks": "",
           "title": {
            "standoff": 15
           },
           "zerolinecolor": "white",
           "zerolinewidth": 2
          }
         }
        },
        "title": {
         "text": "Word Counts for Billboard 100 Top 1 Tracks"
        },
        "width": 1000,
        "xaxis": {
         "anchor": "y",
         "categoryarray": [
          21,
          22,
          23,
          24,
          27,
          28,
          29,
          30,
          34,
          35,
          36,
          37,
          38,
          39,
          41,
          42,
          44,
          46,
          47,
          49,
          50,
          51,
          52,
          53,
          55,
          61,
          62,
          63,
          67,
          70,
          86,
          104,
          145,
          148,
          152,
          155,
          157,
          255,
          281,
          374,
          392
         ],
         "categoryorder": "array",
         "domain": [
          0,
          1
         ],
         "title": {
          "text": "Count"
         }
        },
        "yaxis": {
         "anchor": "x",
         "domain": [
          0,
          1
         ],
         "title": {
          "text": "Words"
         }
        }
       }
      },
      "text/html": [
       "<div>                            <div id=\"304d2a07-7ca9-46c0-b54f-16ed7736edfb\" class=\"plotly-graph-div\" style=\"height:1000px; width:1000px;\"></div>            <script type=\"text/javascript\">                require([\"plotly\"], function(Plotly) {                    window.PLOTLYENV=window.PLOTLYENV || {};                                    if (document.getElementById(\"304d2a07-7ca9-46c0-b54f-16ed7736edfb\")) {                    Plotly.newPlot(                        \"304d2a07-7ca9-46c0-b54f-16ed7736edfb\",                        [{\"alignmentgroup\":\"True\",\"hovertemplate\":\"Count=%{marker.color}<br>Words=%{y}<extra></extra>\",\"legendgroup\":\"21\",\"marker\":{\"color\":[21,21,21,21],\"coloraxis\":\"coloraxis\",\"pattern\":{\"shape\":\"\"}},\"name\":\"21\",\"offsetgroup\":\"21\",\"orientation\":\"h\",\"showlegend\":true,\"textposition\":\"auto\",\"x\":[21,21,21,21],\"xaxis\":\"x\",\"y\":[\"town\",\"hold\",\"&\",\"over\"],\"yaxis\":\"y\",\"type\":\"bar\"},{\"alignmentgroup\":\"True\",\"hovertemplate\":\"Count=%{marker.color}<br>Words=%{y}<extra></extra>\",\"legendgroup\":\"22\",\"marker\":{\"color\":[22,22,22,22],\"coloraxis\":\"coloraxis\",\"pattern\":{\"shape\":\"/\"}},\"name\":\"22\",\"offsetgroup\":\"22\",\"orientation\":\"h\",\"showlegend\":true,\"textposition\":\"auto\",\"x\":[22,22,22,22],\"xaxis\":\"x\",\"y\":[\"take\",\"no\",\"dance\",\"black\"],\"yaxis\":\"y\",\"type\":\"bar\"},{\"alignmentgroup\":\"True\",\"hovertemplate\":\"Count=%{marker.color}<br>Words=%{y}<extra></extra>\",\"legendgroup\":\"23\",\"marker\":{\"color\":[23,23,23,23,23,23],\"coloraxis\":\"coloraxis\",\"pattern\":{\"shape\":\"\\\\\"}},\"name\":\"23\",\"offsetgroup\":\"23\",\"orientation\":\"h\",\"showlegend\":true,\"textposition\":\"auto\",\"x\":[23,23,23,23,23,23],\"xaxis\":\"x\",\"y\":[\"sweet\",\"look\",\"from\",\"make\",\"girls\",\"more\"],\"yaxis\":\"y\",\"type\":\"bar\"},{\"alignmentgroup\":\"True\",\"hovertemplate\":\"Count=%{marker.color}<br>Words=%{y}<extra></extra>\",\"legendgroup\":\"24\",\"marker\":{\"color\":[24,24,24,24,24,24],\"coloraxis\":\"coloraxis\",\"pattern\":{\"shape\":\"x\"}},\"name\":\"24\",\"offsetgroup\":\"24\",\"orientation\":\"h\",\"showlegend\":true,\"textposition\":\"auto\",\"x\":[24,24,24,24,24,24],\"xaxis\":\"x\",\"y\":[\"tonight\",\"feeling\",\"theme\",\"boom\",\"go\",\"life\"],\"yaxis\":\"y\",\"type\":\"bar\"},{\"alignmentgroup\":\"True\",\"hovertemplate\":\"Count=%{marker.color}<br>Words=%{y}<extra></extra>\",\"legendgroup\":\"27\",\"marker\":{\"color\":[27,27,27,27,27],\"coloraxis\":\"coloraxis\",\"pattern\":{\"shape\":\"+\"}},\"name\":\"27\",\"offsetgroup\":\"27\",\"orientation\":\"h\",\"showlegend\":true,\"textposition\":\"auto\",\"x\":[27,27,27,27,27],\"xaxis\":\"x\",\"y\":[\"back\",\"hey\",\"day\",\"it's\",\"how\"],\"yaxis\":\"y\",\"type\":\"bar\"},{\"alignmentgroup\":\"True\",\"hovertemplate\":\"Count=%{marker.color}<br>Words=%{y}<extra></extra>\",\"legendgroup\":\"28\",\"marker\":{\"color\":[28,28],\"coloraxis\":\"coloraxis\",\"pattern\":{\"shape\":\".\"}},\"name\":\"28\",\"offsetgroup\":\"28\",\"orientation\":\"h\",\"showlegend\":true,\"textposition\":\"auto\",\"x\":[28,28],\"xaxis\":\"x\",\"y\":[\"got\",\"time\"],\"yaxis\":\"y\",\"type\":\"bar\"},{\"alignmentgroup\":\"True\",\"hovertemplate\":\"Count=%{marker.color}<br>Words=%{y}<extra></extra>\",\"legendgroup\":\"29\",\"marker\":{\"color\":[29,29],\"coloraxis\":\"coloraxis\",\"pattern\":{\"shape\":\"\"}},\"name\":\"29\",\"offsetgroup\":\"29\",\"orientation\":\"h\",\"showlegend\":true,\"textposition\":\"auto\",\"x\":[29,29],\"xaxis\":\"x\",\"y\":[\"together\",\"about\"],\"yaxis\":\"y\",\"type\":\"bar\"},{\"alignmentgroup\":\"True\",\"hovertemplate\":\"Count=%{marker.color}<br>Words=%{y}<extra></extra>\",\"legendgroup\":\"30\",\"marker\":{\"color\":[30,30,30,30],\"coloraxis\":\"coloraxis\",\"pattern\":{\"shape\":\"/\"}},\"name\":\"30\",\"offsetgroup\":\"30\",\"orientation\":\"h\",\"showlegend\":true,\"textposition\":\"auto\",\"x\":[30,30,30,30],\"xaxis\":\"x\",\"y\":[\"again\",\"rock\",\"what\",\"get\"],\"yaxis\":\"y\",\"type\":\"bar\"},{\"alignmentgroup\":\"True\",\"hovertemplate\":\"Count=%{marker.color}<br>Words=%{y}<extra></extra>\",\"legendgroup\":\"34\",\"marker\":{\"color\":[34,34],\"coloraxis\":\"coloraxis\",\"pattern\":{\"shape\":\"\\\\\"}},\"name\":\"34\",\"offsetgroup\":\"34\",\"orientation\":\"h\",\"showlegend\":true,\"textposition\":\"auto\",\"x\":[34,34],\"xaxis\":\"x\",\"y\":[\"are\",\"road\"],\"yaxis\":\"y\",\"type\":\"bar\"},{\"alignmentgroup\":\"True\",\"hovertemplate\":\"Count=%{marker.color}<br>Words=%{y}<extra></extra>\",\"legendgroup\":\"35\",\"marker\":{\"color\":[35,35],\"coloraxis\":\"coloraxis\",\"pattern\":{\"shape\":\"x\"}},\"name\":\"35\",\"offsetgroup\":\"35\",\"orientation\":\"h\",\"showlegend\":true,\"textposition\":\"auto\",\"x\":[35,35],\"xaxis\":\"x\",\"y\":[\"up\",\"will\"],\"yaxis\":\"y\",\"type\":\"bar\"},{\"alignmentgroup\":\"True\",\"hovertemplate\":\"Count=%{marker.color}<br>Words=%{y}<extra></extra>\",\"legendgroup\":\"36\",\"marker\":{\"color\":[36],\"coloraxis\":\"coloraxis\",\"pattern\":{\"shape\":\"+\"}},\"name\":\"36\",\"offsetgroup\":\"36\",\"orientation\":\"h\",\"showlegend\":true,\"textposition\":\"auto\",\"x\":[36],\"xaxis\":\"x\",\"y\":[\"want\"],\"yaxis\":\"y\",\"type\":\"bar\"},{\"alignmentgroup\":\"True\",\"hovertemplate\":\"Count=%{marker.color}<br>Words=%{y}<extra></extra>\",\"legendgroup\":\"37\",\"marker\":{\"color\":[37,37,37],\"coloraxis\":\"coloraxis\",\"pattern\":{\"shape\":\".\"}},\"name\":\"37\",\"offsetgroup\":\"37\",\"orientation\":\"h\",\"showlegend\":true,\"textposition\":\"auto\",\"x\":[37,37,37],\"xaxis\":\"x\",\"y\":[\"girl\",\"boy\",\"heart\"],\"yaxis\":\"y\",\"type\":\"bar\"},{\"alignmentgroup\":\"True\",\"hovertemplate\":\"Count=%{marker.color}<br>Words=%{y}<extra></extra>\",\"legendgroup\":\"38\",\"marker\":{\"color\":[38],\"coloraxis\":\"coloraxis\",\"pattern\":{\"shape\":\"\"}},\"name\":\"38\",\"offsetgroup\":\"38\",\"orientation\":\"h\",\"showlegend\":true,\"textposition\":\"auto\",\"x\":[38],\"xaxis\":\"x\",\"y\":[\"i'll\"],\"yaxis\":\"y\",\"type\":\"bar\"},{\"alignmentgroup\":\"True\",\"hovertemplate\":\"Count=%{marker.color}<br>Words=%{y}<extra></extra>\",\"legendgroup\":\"39\",\"marker\":{\"color\":[39,39],\"coloraxis\":\"coloraxis\",\"pattern\":{\"shape\":\"/\"}},\"name\":\"39\",\"offsetgroup\":\"39\",\"orientation\":\"h\",\"showlegend\":true,\"textposition\":\"auto\",\"x\":[39,39],\"xaxis\":\"x\",\"y\":[\"say\",\"this\"],\"yaxis\":\"y\",\"type\":\"bar\"},{\"alignmentgroup\":\"True\",\"hovertemplate\":\"Count=%{marker.color}<br>Words=%{y}<extra></extra>\",\"legendgroup\":\"41\",\"marker\":{\"color\":[41,41],\"coloraxis\":\"coloraxis\",\"pattern\":{\"shape\":\"\\\\\"}},\"name\":\"41\",\"offsetgroup\":\"41\",\"orientation\":\"h\",\"showlegend\":true,\"textposition\":\"auto\",\"x\":[41,41],\"xaxis\":\"x\",\"y\":[\"that\",\"bad\"],\"yaxis\":\"y\",\"type\":\"bar\"},{\"alignmentgroup\":\"True\",\"hovertemplate\":\"Count=%{marker.color}<br>Words=%{y}<extra></extra>\",\"legendgroup\":\"42\",\"marker\":{\"color\":[42],\"coloraxis\":\"coloraxis\",\"pattern\":{\"shape\":\"x\"}},\"name\":\"42\",\"offsetgroup\":\"42\",\"orientation\":\"h\",\"showlegend\":true,\"textposition\":\"auto\",\"x\":[42],\"xaxis\":\"x\",\"y\":[\"and\"],\"yaxis\":\"y\",\"type\":\"bar\"},{\"alignmentgroup\":\"True\",\"hovertemplate\":\"Count=%{marker.color}<br>Words=%{y}<extra></extra>\",\"legendgroup\":\"44\",\"marker\":{\"color\":[44],\"coloraxis\":\"coloraxis\",\"pattern\":{\"shape\":\"+\"}},\"name\":\"44\",\"offsetgroup\":\"44\",\"orientation\":\"h\",\"showlegend\":true,\"textposition\":\"auto\",\"x\":[44],\"xaxis\":\"x\",\"y\":[\"(from\"],\"yaxis\":\"y\",\"type\":\"bar\"},{\"alignmentgroup\":\"True\",\"hovertemplate\":\"Count=%{marker.color}<br>Words=%{y}<extra></extra>\",\"legendgroup\":\"46\",\"marker\":{\"color\":[46],\"coloraxis\":\"coloraxis\",\"pattern\":{\"shape\":\".\"}},\"name\":\"46\",\"offsetgroup\":\"46\",\"orientation\":\"h\",\"showlegend\":true,\"textposition\":\"auto\",\"x\":[46],\"xaxis\":\"x\",\"y\":[\"do\"],\"yaxis\":\"y\",\"type\":\"bar\"},{\"alignmentgroup\":\"True\",\"hovertemplate\":\"Count=%{marker.color}<br>Words=%{y}<extra></extra>\",\"legendgroup\":\"47\",\"marker\":{\"color\":[47],\"coloraxis\":\"coloraxis\",\"pattern\":{\"shape\":\"\"}},\"name\":\"47\",\"offsetgroup\":\"47\",\"orientation\":\"h\",\"showlegend\":true,\"textposition\":\"auto\",\"x\":[47],\"xaxis\":\"x\",\"y\":[\"i'm\"],\"yaxis\":\"y\",\"type\":\"bar\"},{\"alignmentgroup\":\"True\",\"hovertemplate\":\"Count=%{marker.color}<br>Words=%{y}<extra></extra>\",\"legendgroup\":\"49\",\"marker\":{\"color\":[49],\"coloraxis\":\"coloraxis\",\"pattern\":{\"shape\":\"/\"}},\"name\":\"49\",\"offsetgroup\":\"49\",\"orientation\":\"h\",\"showlegend\":true,\"textposition\":\"auto\",\"x\":[49],\"xaxis\":\"x\",\"y\":[\"can't\"],\"yaxis\":\"y\",\"type\":\"bar\"},{\"alignmentgroup\":\"True\",\"hovertemplate\":\"Count=%{marker.color}<br>Words=%{y}<extra></extra>\",\"legendgroup\":\"50\",\"marker\":{\"color\":[50,50],\"coloraxis\":\"coloraxis\",\"pattern\":{\"shape\":\"\\\\\"}},\"name\":\"50\",\"offsetgroup\":\"50\",\"orientation\":\"h\",\"showlegend\":true,\"textposition\":\"auto\",\"x\":[50,50],\"xaxis\":\"x\",\"y\":[\"way\",\"baby\"],\"yaxis\":\"y\",\"type\":\"bar\"},{\"alignmentgroup\":\"True\",\"hovertemplate\":\"Count=%{marker.color}<br>Words=%{y}<extra></extra>\",\"legendgroup\":\"51\",\"marker\":{\"color\":[51],\"coloraxis\":\"coloraxis\",\"pattern\":{\"shape\":\"x\"}},\"name\":\"51\",\"offsetgroup\":\"51\",\"orientation\":\"h\",\"showlegend\":true,\"textposition\":\"auto\",\"x\":[51],\"xaxis\":\"x\",\"y\":[\"don't\"],\"yaxis\":\"y\",\"type\":\"bar\"},{\"alignmentgroup\":\"True\",\"hovertemplate\":\"Count=%{marker.color}<br>Words=%{y}<extra></extra>\",\"legendgroup\":\"52\",\"marker\":{\"color\":[52],\"coloraxis\":\"coloraxis\",\"pattern\":{\"shape\":\"+\"}},\"name\":\"52\",\"offsetgroup\":\"52\",\"orientation\":\"h\",\"showlegend\":true,\"textposition\":\"auto\",\"x\":[52],\"xaxis\":\"x\",\"y\":[\"with\"],\"yaxis\":\"y\",\"type\":\"bar\"},{\"alignmentgroup\":\"True\",\"hovertemplate\":\"Count=%{marker.color}<br>Words=%{y}<extra></extra>\",\"legendgroup\":\"53\",\"marker\":{\"color\":[53],\"coloraxis\":\"coloraxis\",\"pattern\":{\"shape\":\".\"}},\"name\":\"53\",\"offsetgroup\":\"53\",\"orientation\":\"h\",\"showlegend\":true,\"textposition\":\"auto\",\"x\":[53],\"xaxis\":\"x\",\"y\":[\"night\"],\"yaxis\":\"y\",\"type\":\"bar\"},{\"alignmentgroup\":\"True\",\"hovertemplate\":\"Count=%{marker.color}<br>Words=%{y}<extra></extra>\",\"legendgroup\":\"55\",\"marker\":{\"color\":[55],\"coloraxis\":\"coloraxis\",\"pattern\":{\"shape\":\"\"}},\"name\":\"55\",\"offsetgroup\":\"55\",\"orientation\":\"h\",\"showlegend\":true,\"textposition\":\"auto\",\"x\":[55],\"xaxis\":\"x\",\"y\":[\"like\"],\"yaxis\":\"y\",\"type\":\"bar\"},{\"alignmentgroup\":\"True\",\"hovertemplate\":\"Count=%{marker.color}<br>Words=%{y}<extra></extra>\",\"legendgroup\":\"61\",\"marker\":{\"color\":[61],\"coloraxis\":\"coloraxis\",\"pattern\":{\"shape\":\"/\"}},\"name\":\"61\",\"offsetgroup\":\"61\",\"orientation\":\"h\",\"showlegend\":true,\"textposition\":\"auto\",\"x\":[61],\"xaxis\":\"x\",\"y\":[\"all\"],\"yaxis\":\"y\",\"type\":\"bar\"},{\"alignmentgroup\":\"True\",\"hovertemplate\":\"Count=%{marker.color}<br>Words=%{y}<extra></extra>\",\"legendgroup\":\"62\",\"marker\":{\"color\":[62,62,62],\"coloraxis\":\"coloraxis\",\"pattern\":{\"shape\":\"\\\\\"}},\"name\":\"62\",\"offsetgroup\":\"62\",\"orientation\":\"h\",\"showlegend\":true,\"textposition\":\"auto\",\"x\":[62,62,62],\"xaxis\":\"x\",\"y\":[\"one\",\"we\",\"for\"],\"yaxis\":\"y\",\"type\":\"bar\"},{\"alignmentgroup\":\"True\",\"hovertemplate\":\"Count=%{marker.color}<br>Words=%{y}<extra></extra>\",\"legendgroup\":\"63\",\"marker\":{\"color\":[63],\"coloraxis\":\"coloraxis\",\"pattern\":{\"shape\":\"x\"}},\"name\":\"63\",\"offsetgroup\":\"63\",\"orientation\":\"h\",\"showlegend\":true,\"textposition\":\"auto\",\"x\":[63],\"xaxis\":\"x\",\"y\":[\"your\"],\"yaxis\":\"y\",\"type\":\"bar\"},{\"alignmentgroup\":\"True\",\"hovertemplate\":\"Count=%{marker.color}<br>Words=%{y}<extra></extra>\",\"legendgroup\":\"67\",\"marker\":{\"color\":[67],\"coloraxis\":\"coloraxis\",\"pattern\":{\"shape\":\"+\"}},\"name\":\"67\",\"offsetgroup\":\"67\",\"orientation\":\"h\",\"showlegend\":true,\"textposition\":\"auto\",\"x\":[67],\"xaxis\":\"x\",\"y\":[\"is\"],\"yaxis\":\"y\",\"type\":\"bar\"},{\"alignmentgroup\":\"True\",\"hovertemplate\":\"Count=%{marker.color}<br>Words=%{y}<extra></extra>\",\"legendgroup\":\"70\",\"marker\":{\"color\":[70],\"coloraxis\":\"coloraxis\",\"pattern\":{\"shape\":\".\"}},\"name\":\"70\",\"offsetgroup\":\"70\",\"orientation\":\"h\",\"showlegend\":true,\"textposition\":\"auto\",\"x\":[70],\"xaxis\":\"x\",\"y\":[\"be\"],\"yaxis\":\"y\",\"type\":\"bar\"},{\"alignmentgroup\":\"True\",\"hovertemplate\":\"Count=%{marker.color}<br>Words=%{y}<extra></extra>\",\"legendgroup\":\"86\",\"marker\":{\"color\":[86],\"coloraxis\":\"coloraxis\",\"pattern\":{\"shape\":\"\"}},\"name\":\"86\",\"offsetgroup\":\"86\",\"orientation\":\"h\",\"showlegend\":true,\"textposition\":\"auto\",\"x\":[86],\"xaxis\":\"x\",\"y\":[\"on\"],\"yaxis\":\"y\",\"type\":\"bar\"},{\"alignmentgroup\":\"True\",\"hovertemplate\":\"Count=%{marker.color}<br>Words=%{y}<extra></extra>\",\"legendgroup\":\"104\",\"marker\":{\"color\":[104],\"coloraxis\":\"coloraxis\",\"pattern\":{\"shape\":\"/\"}},\"name\":\"104\",\"offsetgroup\":\"104\",\"orientation\":\"h\",\"showlegend\":true,\"textposition\":\"auto\",\"x\":[104],\"xaxis\":\"x\",\"y\":[\"it\"],\"yaxis\":\"y\",\"type\":\"bar\"},{\"alignmentgroup\":\"True\",\"hovertemplate\":\"Count=%{marker.color}<br>Words=%{y}<extra></extra>\",\"legendgroup\":\"145\",\"marker\":{\"color\":[145],\"coloraxis\":\"coloraxis\",\"pattern\":{\"shape\":\"\\\\\"}},\"name\":\"145\",\"offsetgroup\":\"145\",\"orientation\":\"h\",\"showlegend\":true,\"textposition\":\"auto\",\"x\":[145],\"xaxis\":\"x\",\"y\":[\"of\"],\"yaxis\":\"y\",\"type\":\"bar\"},{\"alignmentgroup\":\"True\",\"hovertemplate\":\"Count=%{marker.color}<br>Words=%{y}<extra></extra>\",\"legendgroup\":\"148\",\"marker\":{\"color\":[148,148],\"coloraxis\":\"coloraxis\",\"pattern\":{\"shape\":\"x\"}},\"name\":\"148\",\"offsetgroup\":\"148\",\"orientation\":\"h\",\"showlegend\":true,\"textposition\":\"auto\",\"x\":[148,148],\"xaxis\":\"x\",\"y\":[\"my\",\"to\"],\"yaxis\":\"y\",\"type\":\"bar\"},{\"alignmentgroup\":\"True\",\"hovertemplate\":\"Count=%{marker.color}<br>Words=%{y}<extra></extra>\",\"legendgroup\":\"152\",\"marker\":{\"color\":[152],\"coloraxis\":\"coloraxis\",\"pattern\":{\"shape\":\"+\"}},\"name\":\"152\",\"offsetgroup\":\"152\",\"orientation\":\"h\",\"showlegend\":true,\"textposition\":\"auto\",\"x\":[152],\"xaxis\":\"x\",\"y\":[\"in\"],\"yaxis\":\"y\",\"type\":\"bar\"},{\"alignmentgroup\":\"True\",\"hovertemplate\":\"Count=%{marker.color}<br>Words=%{y}<extra></extra>\",\"legendgroup\":\"155\",\"marker\":{\"color\":[155],\"coloraxis\":\"coloraxis\",\"pattern\":{\"shape\":\".\"}},\"name\":\"155\",\"offsetgroup\":\"155\",\"orientation\":\"h\",\"showlegend\":true,\"textposition\":\"auto\",\"x\":[155],\"xaxis\":\"x\",\"y\":[\"me\"],\"yaxis\":\"y\",\"type\":\"bar\"},{\"alignmentgroup\":\"True\",\"hovertemplate\":\"Count=%{marker.color}<br>Words=%{y}<extra></extra>\",\"legendgroup\":\"157\",\"marker\":{\"color\":[157],\"coloraxis\":\"coloraxis\",\"pattern\":{\"shape\":\"\"}},\"name\":\"157\",\"offsetgroup\":\"157\",\"orientation\":\"h\",\"showlegend\":true,\"textposition\":\"auto\",\"x\":[157],\"xaxis\":\"x\",\"y\":[\"a\"],\"yaxis\":\"y\",\"type\":\"bar\"},{\"alignmentgroup\":\"True\",\"hovertemplate\":\"Count=%{marker.color}<br>Words=%{y}<extra></extra>\",\"legendgroup\":\"255\",\"marker\":{\"color\":[255],\"coloraxis\":\"coloraxis\",\"pattern\":{\"shape\":\"/\"}},\"name\":\"255\",\"offsetgroup\":\"255\",\"orientation\":\"h\",\"showlegend\":true,\"textposition\":\"auto\",\"x\":[255],\"xaxis\":\"x\",\"y\":[\"i\"],\"yaxis\":\"y\",\"type\":\"bar\"},{\"alignmentgroup\":\"True\",\"hovertemplate\":\"Count=%{marker.color}<br>Words=%{y}<extra></extra>\",\"legendgroup\":\"281\",\"marker\":{\"color\":[281],\"coloraxis\":\"coloraxis\",\"pattern\":{\"shape\":\"\\\\\"}},\"name\":\"281\",\"offsetgroup\":\"281\",\"orientation\":\"h\",\"showlegend\":true,\"textposition\":\"auto\",\"x\":[281],\"xaxis\":\"x\",\"y\":[\"love\"],\"yaxis\":\"y\",\"type\":\"bar\"},{\"alignmentgroup\":\"True\",\"hovertemplate\":\"Count=%{marker.color}<br>Words=%{y}<extra></extra>\",\"legendgroup\":\"374\",\"marker\":{\"color\":[374],\"coloraxis\":\"coloraxis\",\"pattern\":{\"shape\":\"x\"}},\"name\":\"374\",\"offsetgroup\":\"374\",\"orientation\":\"h\",\"showlegend\":true,\"textposition\":\"auto\",\"x\":[374],\"xaxis\":\"x\",\"y\":[\"you\"],\"yaxis\":\"y\",\"type\":\"bar\"},{\"alignmentgroup\":\"True\",\"hovertemplate\":\"Count=%{marker.color}<br>Words=%{y}<extra></extra>\",\"legendgroup\":\"392\",\"marker\":{\"color\":[392],\"coloraxis\":\"coloraxis\",\"pattern\":{\"shape\":\"+\"}},\"name\":\"392\",\"offsetgroup\":\"392\",\"orientation\":\"h\",\"showlegend\":true,\"textposition\":\"auto\",\"x\":[392],\"xaxis\":\"x\",\"y\":[\"the\"],\"yaxis\":\"y\",\"type\":\"bar\"}],                        {\"template\":{\"data\":{\"bar\":[{\"error_x\":{\"color\":\"#2a3f5f\"},\"error_y\":{\"color\":\"#2a3f5f\"},\"marker\":{\"line\":{\"color\":\"#E5ECF6\",\"width\":0.5},\"pattern\":{\"fillmode\":\"overlay\",\"size\":10,\"solidity\":0.2}},\"type\":\"bar\"}],\"barpolar\":[{\"marker\":{\"line\":{\"color\":\"#E5ECF6\",\"width\":0.5},\"pattern\":{\"fillmode\":\"overlay\",\"size\":10,\"solidity\":0.2}},\"type\":\"barpolar\"}],\"carpet\":[{\"aaxis\":{\"endlinecolor\":\"#2a3f5f\",\"gridcolor\":\"white\",\"linecolor\":\"white\",\"minorgridcolor\":\"white\",\"startlinecolor\":\"#2a3f5f\"},\"baxis\":{\"endlinecolor\":\"#2a3f5f\",\"gridcolor\":\"white\",\"linecolor\":\"white\",\"minorgridcolor\":\"white\",\"startlinecolor\":\"#2a3f5f\"},\"type\":\"carpet\"}],\"choropleth\":[{\"colorbar\":{\"outlinewidth\":0,\"ticks\":\"\"},\"type\":\"choropleth\"}],\"contour\":[{\"colorbar\":{\"outlinewidth\":0,\"ticks\":\"\"},\"colorscale\":[[0.0,\"#0d0887\"],[0.1111111111111111,\"#46039f\"],[0.2222222222222222,\"#7201a8\"],[0.3333333333333333,\"#9c179e\"],[0.4444444444444444,\"#bd3786\"],[0.5555555555555556,\"#d8576b\"],[0.6666666666666666,\"#ed7953\"],[0.7777777777777778,\"#fb9f3a\"],[0.8888888888888888,\"#fdca26\"],[1.0,\"#f0f921\"]],\"type\":\"contour\"}],\"contourcarpet\":[{\"colorbar\":{\"outlinewidth\":0,\"ticks\":\"\"},\"type\":\"contourcarpet\"}],\"heatmap\":[{\"colorbar\":{\"outlinewidth\":0,\"ticks\":\"\"},\"colorscale\":[[0.0,\"#0d0887\"],[0.1111111111111111,\"#46039f\"],[0.2222222222222222,\"#7201a8\"],[0.3333333333333333,\"#9c179e\"],[0.4444444444444444,\"#bd3786\"],[0.5555555555555556,\"#d8576b\"],[0.6666666666666666,\"#ed7953\"],[0.7777777777777778,\"#fb9f3a\"],[0.8888888888888888,\"#fdca26\"],[1.0,\"#f0f921\"]],\"type\":\"heatmap\"}],\"heatmapgl\":[{\"colorbar\":{\"outlinewidth\":0,\"ticks\":\"\"},\"colorscale\":[[0.0,\"#0d0887\"],[0.1111111111111111,\"#46039f\"],[0.2222222222222222,\"#7201a8\"],[0.3333333333333333,\"#9c179e\"],[0.4444444444444444,\"#bd3786\"],[0.5555555555555556,\"#d8576b\"],[0.6666666666666666,\"#ed7953\"],[0.7777777777777778,\"#fb9f3a\"],[0.8888888888888888,\"#fdca26\"],[1.0,\"#f0f921\"]],\"type\":\"heatmapgl\"}],\"histogram\":[{\"marker\":{\"pattern\":{\"fillmode\":\"overlay\",\"size\":10,\"solidity\":0.2}},\"type\":\"histogram\"}],\"histogram2d\":[{\"colorbar\":{\"outlinewidth\":0,\"ticks\":\"\"},\"colorscale\":[[0.0,\"#0d0887\"],[0.1111111111111111,\"#46039f\"],[0.2222222222222222,\"#7201a8\"],[0.3333333333333333,\"#9c179e\"],[0.4444444444444444,\"#bd3786\"],[0.5555555555555556,\"#d8576b\"],[0.6666666666666666,\"#ed7953\"],[0.7777777777777778,\"#fb9f3a\"],[0.8888888888888888,\"#fdca26\"],[1.0,\"#f0f921\"]],\"type\":\"histogram2d\"}],\"histogram2dcontour\":[{\"colorbar\":{\"outlinewidth\":0,\"ticks\":\"\"},\"colorscale\":[[0.0,\"#0d0887\"],[0.1111111111111111,\"#46039f\"],[0.2222222222222222,\"#7201a8\"],[0.3333333333333333,\"#9c179e\"],[0.4444444444444444,\"#bd3786\"],[0.5555555555555556,\"#d8576b\"],[0.6666666666666666,\"#ed7953\"],[0.7777777777777778,\"#fb9f3a\"],[0.8888888888888888,\"#fdca26\"],[1.0,\"#f0f921\"]],\"type\":\"histogram2dcontour\"}],\"mesh3d\":[{\"colorbar\":{\"outlinewidth\":0,\"ticks\":\"\"},\"type\":\"mesh3d\"}],\"parcoords\":[{\"line\":{\"colorbar\":{\"outlinewidth\":0,\"ticks\":\"\"}},\"type\":\"parcoords\"}],\"pie\":[{\"automargin\":true,\"type\":\"pie\"}],\"scatter\":[{\"marker\":{\"colorbar\":{\"outlinewidth\":0,\"ticks\":\"\"}},\"type\":\"scatter\"}],\"scatter3d\":[{\"line\":{\"colorbar\":{\"outlinewidth\":0,\"ticks\":\"\"}},\"marker\":{\"colorbar\":{\"outlinewidth\":0,\"ticks\":\"\"}},\"type\":\"scatter3d\"}],\"scattercarpet\":[{\"marker\":{\"colorbar\":{\"outlinewidth\":0,\"ticks\":\"\"}},\"type\":\"scattercarpet\"}],\"scattergeo\":[{\"marker\":{\"colorbar\":{\"outlinewidth\":0,\"ticks\":\"\"}},\"type\":\"scattergeo\"}],\"scattergl\":[{\"marker\":{\"colorbar\":{\"outlinewidth\":0,\"ticks\":\"\"}},\"type\":\"scattergl\"}],\"scattermapbox\":[{\"marker\":{\"colorbar\":{\"outlinewidth\":0,\"ticks\":\"\"}},\"type\":\"scattermapbox\"}],\"scatterpolar\":[{\"marker\":{\"colorbar\":{\"outlinewidth\":0,\"ticks\":\"\"}},\"type\":\"scatterpolar\"}],\"scatterpolargl\":[{\"marker\":{\"colorbar\":{\"outlinewidth\":0,\"ticks\":\"\"}},\"type\":\"scatterpolargl\"}],\"scatterternary\":[{\"marker\":{\"colorbar\":{\"outlinewidth\":0,\"ticks\":\"\"}},\"type\":\"scatterternary\"}],\"surface\":[{\"colorbar\":{\"outlinewidth\":0,\"ticks\":\"\"},\"colorscale\":[[0.0,\"#0d0887\"],[0.1111111111111111,\"#46039f\"],[0.2222222222222222,\"#7201a8\"],[0.3333333333333333,\"#9c179e\"],[0.4444444444444444,\"#bd3786\"],[0.5555555555555556,\"#d8576b\"],[0.6666666666666666,\"#ed7953\"],[0.7777777777777778,\"#fb9f3a\"],[0.8888888888888888,\"#fdca26\"],[1.0,\"#f0f921\"]],\"type\":\"surface\"}],\"table\":[{\"cells\":{\"fill\":{\"color\":\"#EBF0F8\"},\"line\":{\"color\":\"white\"}},\"header\":{\"fill\":{\"color\":\"#C8D4E3\"},\"line\":{\"color\":\"white\"}},\"type\":\"table\"}]},\"layout\":{\"annotationdefaults\":{\"arrowcolor\":\"#2a3f5f\",\"arrowhead\":0,\"arrowwidth\":1},\"autotypenumbers\":\"strict\",\"coloraxis\":{\"colorbar\":{\"outlinewidth\":0,\"ticks\":\"\"}},\"colorscale\":{\"diverging\":[[0,\"#8e0152\"],[0.1,\"#c51b7d\"],[0.2,\"#de77ae\"],[0.3,\"#f1b6da\"],[0.4,\"#fde0ef\"],[0.5,\"#f7f7f7\"],[0.6,\"#e6f5d0\"],[0.7,\"#b8e186\"],[0.8,\"#7fbc41\"],[0.9,\"#4d9221\"],[1,\"#276419\"]],\"sequential\":[[0.0,\"#0d0887\"],[0.1111111111111111,\"#46039f\"],[0.2222222222222222,\"#7201a8\"],[0.3333333333333333,\"#9c179e\"],[0.4444444444444444,\"#bd3786\"],[0.5555555555555556,\"#d8576b\"],[0.6666666666666666,\"#ed7953\"],[0.7777777777777778,\"#fb9f3a\"],[0.8888888888888888,\"#fdca26\"],[1.0,\"#f0f921\"]],\"sequentialminus\":[[0.0,\"#0d0887\"],[0.1111111111111111,\"#46039f\"],[0.2222222222222222,\"#7201a8\"],[0.3333333333333333,\"#9c179e\"],[0.4444444444444444,\"#bd3786\"],[0.5555555555555556,\"#d8576b\"],[0.6666666666666666,\"#ed7953\"],[0.7777777777777778,\"#fb9f3a\"],[0.8888888888888888,\"#fdca26\"],[1.0,\"#f0f921\"]]},\"colorway\":[\"#636efa\",\"#EF553B\",\"#00cc96\",\"#ab63fa\",\"#FFA15A\",\"#19d3f3\",\"#FF6692\",\"#B6E880\",\"#FF97FF\",\"#FECB52\"],\"font\":{\"color\":\"#2a3f5f\"},\"geo\":{\"bgcolor\":\"white\",\"lakecolor\":\"white\",\"landcolor\":\"#E5ECF6\",\"showlakes\":true,\"showland\":true,\"subunitcolor\":\"white\"},\"hoverlabel\":{\"align\":\"left\"},\"hovermode\":\"closest\",\"mapbox\":{\"style\":\"light\"},\"paper_bgcolor\":\"white\",\"plot_bgcolor\":\"#E5ECF6\",\"polar\":{\"angularaxis\":{\"gridcolor\":\"white\",\"linecolor\":\"white\",\"ticks\":\"\"},\"bgcolor\":\"#E5ECF6\",\"radialaxis\":{\"gridcolor\":\"white\",\"linecolor\":\"white\",\"ticks\":\"\"}},\"scene\":{\"xaxis\":{\"backgroundcolor\":\"#E5ECF6\",\"gridcolor\":\"white\",\"gridwidth\":2,\"linecolor\":\"white\",\"showbackground\":true,\"ticks\":\"\",\"zerolinecolor\":\"white\"},\"yaxis\":{\"backgroundcolor\":\"#E5ECF6\",\"gridcolor\":\"white\",\"gridwidth\":2,\"linecolor\":\"white\",\"showbackground\":true,\"ticks\":\"\",\"zerolinecolor\":\"white\"},\"zaxis\":{\"backgroundcolor\":\"#E5ECF6\",\"gridcolor\":\"white\",\"gridwidth\":2,\"linecolor\":\"white\",\"showbackground\":true,\"ticks\":\"\",\"zerolinecolor\":\"white\"}},\"shapedefaults\":{\"line\":{\"color\":\"#2a3f5f\"}},\"ternary\":{\"aaxis\":{\"gridcolor\":\"white\",\"linecolor\":\"white\",\"ticks\":\"\"},\"baxis\":{\"gridcolor\":\"white\",\"linecolor\":\"white\",\"ticks\":\"\"},\"bgcolor\":\"#E5ECF6\",\"caxis\":{\"gridcolor\":\"white\",\"linecolor\":\"white\",\"ticks\":\"\"}},\"title\":{\"x\":0.05},\"xaxis\":{\"automargin\":true,\"gridcolor\":\"white\",\"linecolor\":\"white\",\"ticks\":\"\",\"title\":{\"standoff\":15},\"zerolinecolor\":\"white\",\"zerolinewidth\":2},\"yaxis\":{\"automargin\":true,\"gridcolor\":\"white\",\"linecolor\":\"white\",\"ticks\":\"\",\"title\":{\"standoff\":15},\"zerolinecolor\":\"white\",\"zerolinewidth\":2}}},\"xaxis\":{\"anchor\":\"y\",\"domain\":[0.0,1.0],\"title\":{\"text\":\"Count\"},\"categoryorder\":\"array\",\"categoryarray\":[21,22,23,24,27,28,29,30,34,35,36,37,38,39,41,42,44,46,47,49,50,51,52,53,55,61,62,63,67,70,86,104,145,148,152,155,157,255,281,374,392]},\"yaxis\":{\"anchor\":\"x\",\"domain\":[0.0,1.0],\"title\":{\"text\":\"Words\"}},\"coloraxis\":{\"colorbar\":{\"title\":{\"text\":\"Count\"}},\"colorscale\":[[0.0,\"#0d0887\"],[0.1111111111111111,\"#46039f\"],[0.2222222222222222,\"#7201a8\"],[0.3333333333333333,\"#9c179e\"],[0.4444444444444444,\"#bd3786\"],[0.5555555555555556,\"#d8576b\"],[0.6666666666666666,\"#ed7953\"],[0.7777777777777778,\"#fb9f3a\"],[0.8888888888888888,\"#fdca26\"],[1.0,\"#f0f921\"]]},\"legend\":{\"title\":{\"text\":\"Count\"},\"tracegroupgap\":0},\"title\":{\"text\":\"Word Counts for Billboard 100 Top 1 Tracks\"},\"barmode\":\"relative\",\"height\":1000,\"width\":1000},                        {\"responsive\": true}                    ).then(function(){\n",
       "                            \n",
       "var gd = document.getElementById('304d2a07-7ca9-46c0-b54f-16ed7736edfb');\n",
       "var x = new MutationObserver(function (mutations, observer) {{\n",
       "        var display = window.getComputedStyle(gd).display;\n",
       "        if (!display || display === 'none') {{\n",
       "            console.log([gd, 'removed!']);\n",
       "            Plotly.purge(gd);\n",
       "            observer.disconnect();\n",
       "        }}\n",
       "}});\n",
       "\n",
       "// Listen for the removal of the full notebook cells\n",
       "var notebookContainer = gd.closest('#notebook-container');\n",
       "if (notebookContainer) {{\n",
       "    x.observe(notebookContainer, {childList: true});\n",
       "}}\n",
       "\n",
       "// Listen for the clearing of the current output cell\n",
       "var outputEl = gd.closest('.output');\n",
       "if (outputEl) {{\n",
       "    x.observe(outputEl, {childList: true});\n",
       "}}\n",
       "\n",
       "                        })                };                });            </script>        </div>"
      ]
     },
     "metadata": {},
     "output_type": "display_data"
    }
   ],
   "source": [
    "fig = px.bar(aggDfWords, x=\"Count\", y=\"Words\", \n",
    "             title=\"Word Counts for Billboard 100 Top 1 Tracks\",\n",
    "             color='Count',\n",
    "             pattern_shape=aggDfWords['Count'],\n",
    "             width=1000,\n",
    "             height=1000\n",
    "            )\n",
    "fig.show()"
   ]
  },
  {
   "cell_type": "code",
   "execution_count": null,
   "id": "767a79a6",
   "metadata": {},
   "outputs": [],
   "source": []
  }
 ],
 "metadata": {
  "kernelspec": {
   "display_name": "Python 3 (ipykernel)",
   "language": "python",
   "name": "python3"
  },
  "language_info": {
   "codemirror_mode": {
    "name": "ipython",
    "version": 3
   },
   "file_extension": ".py",
   "mimetype": "text/x-python",
   "name": "python",
   "nbconvert_exporter": "python",
   "pygments_lexer": "ipython3",
   "version": "3.9.7"
  }
 },
 "nbformat": 4,
 "nbformat_minor": 5
}
